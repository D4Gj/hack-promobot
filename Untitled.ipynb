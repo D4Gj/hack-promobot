{
  "nbformat": 4,
  "nbformat_minor": 0,
  "metadata": {
    "colab": {
      "provenance": []
    },
    "kernelspec": {
      "name": "python3",
      "display_name": "Python 3"
    },
    "language_info": {
      "name": "python"
    }
  },
  "cells": [
    {
      "cell_type": "code",
      "source": [
        "!pip install pymorphy2\n",
        "!pip install catboost\n",
        "!pip install nltk"
      ],
      "metadata": {
        "colab": {
          "base_uri": "https://localhost:8080/"
        },
        "id": "yAjYbJ7xyp5p",
        "outputId": "e75be534-20b9-4a90-ba7b-adfafd0db176"
      },
      "execution_count": null,
      "outputs": [
        {
          "output_type": "stream",
          "name": "stdout",
          "text": [
            "Collecting pymorphy2\n",
            "  Downloading pymorphy2-0.9.1-py3-none-any.whl (55 kB)\n",
            "\u001b[2K     \u001b[90m━━━━━━━━━━━━━━━━━━━━━━━━━━━━━━━━━━━━━━━━\u001b[0m \u001b[32m55.5/55.5 kB\u001b[0m \u001b[31m1.7 MB/s\u001b[0m eta \u001b[36m0:00:00\u001b[0m\n",
            "\u001b[?25hCollecting dawg-python>=0.7.1 (from pymorphy2)\n",
            "  Downloading DAWG_Python-0.7.2-py2.py3-none-any.whl (11 kB)\n",
            "Collecting pymorphy2-dicts-ru<3.0,>=2.4 (from pymorphy2)\n",
            "  Downloading pymorphy2_dicts_ru-2.4.417127.4579844-py2.py3-none-any.whl (8.2 MB)\n",
            "\u001b[2K     \u001b[90m━━━━━━━━━━━━━━━━━━━━━━━━━━━━━━━━━━━━━━━━\u001b[0m \u001b[32m8.2/8.2 MB\u001b[0m \u001b[31m52.0 MB/s\u001b[0m eta \u001b[36m0:00:00\u001b[0m\n",
            "\u001b[?25hCollecting docopt>=0.6 (from pymorphy2)\n",
            "  Downloading docopt-0.6.2.tar.gz (25 kB)\n",
            "  Preparing metadata (setup.py) ... \u001b[?25l\u001b[?25hdone\n",
            "Building wheels for collected packages: docopt\n",
            "  Building wheel for docopt (setup.py) ... \u001b[?25l\u001b[?25hdone\n",
            "  Created wheel for docopt: filename=docopt-0.6.2-py2.py3-none-any.whl size=13706 sha256=aab641e8341a5e67d8178457c1508b879f0437a4c3374e0404932b4420f9bac5\n",
            "  Stored in directory: /root/.cache/pip/wheels/fc/ab/d4/5da2067ac95b36618c629a5f93f809425700506f72c9732fac\n",
            "Successfully built docopt\n",
            "Installing collected packages: pymorphy2-dicts-ru, docopt, dawg-python, pymorphy2\n",
            "Successfully installed dawg-python-0.7.2 docopt-0.6.2 pymorphy2-0.9.1 pymorphy2-dicts-ru-2.4.417127.4579844\n",
            "Collecting catboost\n",
            "  Downloading catboost-1.2.2-cp310-cp310-manylinux2014_x86_64.whl (98.7 MB)\n",
            "\u001b[2K     \u001b[90m━━━━━━━━━━━━━━━━━━━━━━━━━━━━━━━━━━━━━━━━\u001b[0m \u001b[32m98.7/98.7 MB\u001b[0m \u001b[31m2.6 MB/s\u001b[0m eta \u001b[36m0:00:00\u001b[0m\n",
            "\u001b[?25hRequirement already satisfied: graphviz in /usr/local/lib/python3.10/dist-packages (from catboost) (0.20.1)\n",
            "Requirement already satisfied: matplotlib in /usr/local/lib/python3.10/dist-packages (from catboost) (3.7.1)\n",
            "Requirement already satisfied: numpy>=1.16.0 in /usr/local/lib/python3.10/dist-packages (from catboost) (1.23.5)\n",
            "Requirement already satisfied: pandas>=0.24 in /usr/local/lib/python3.10/dist-packages (from catboost) (1.5.3)\n",
            "Requirement already satisfied: scipy in /usr/local/lib/python3.10/dist-packages (from catboost) (1.11.3)\n",
            "Requirement already satisfied: plotly in /usr/local/lib/python3.10/dist-packages (from catboost) (5.15.0)\n",
            "Requirement already satisfied: six in /usr/local/lib/python3.10/dist-packages (from catboost) (1.16.0)\n",
            "Requirement already satisfied: python-dateutil>=2.8.1 in /usr/local/lib/python3.10/dist-packages (from pandas>=0.24->catboost) (2.8.2)\n",
            "Requirement already satisfied: pytz>=2020.1 in /usr/local/lib/python3.10/dist-packages (from pandas>=0.24->catboost) (2023.3.post1)\n",
            "Requirement already satisfied: contourpy>=1.0.1 in /usr/local/lib/python3.10/dist-packages (from matplotlib->catboost) (1.2.0)\n",
            "Requirement already satisfied: cycler>=0.10 in /usr/local/lib/python3.10/dist-packages (from matplotlib->catboost) (0.12.1)\n",
            "Requirement already satisfied: fonttools>=4.22.0 in /usr/local/lib/python3.10/dist-packages (from matplotlib->catboost) (4.44.3)\n",
            "Requirement already satisfied: kiwisolver>=1.0.1 in /usr/local/lib/python3.10/dist-packages (from matplotlib->catboost) (1.4.5)\n",
            "Requirement already satisfied: packaging>=20.0 in /usr/local/lib/python3.10/dist-packages (from matplotlib->catboost) (23.2)\n",
            "Requirement already satisfied: pillow>=6.2.0 in /usr/local/lib/python3.10/dist-packages (from matplotlib->catboost) (9.4.0)\n",
            "Requirement already satisfied: pyparsing>=2.3.1 in /usr/local/lib/python3.10/dist-packages (from matplotlib->catboost) (3.1.1)\n",
            "Requirement already satisfied: tenacity>=6.2.0 in /usr/local/lib/python3.10/dist-packages (from plotly->catboost) (8.2.3)\n",
            "Installing collected packages: catboost\n",
            "Successfully installed catboost-1.2.2\n",
            "Requirement already satisfied: nltk in /usr/local/lib/python3.10/dist-packages (3.8.1)\n",
            "Requirement already satisfied: click in /usr/local/lib/python3.10/dist-packages (from nltk) (8.1.7)\n",
            "Requirement already satisfied: joblib in /usr/local/lib/python3.10/dist-packages (from nltk) (1.3.2)\n",
            "Requirement already satisfied: regex>=2021.8.3 in /usr/local/lib/python3.10/dist-packages (from nltk) (2023.6.3)\n",
            "Requirement already satisfied: tqdm in /usr/local/lib/python3.10/dist-packages (from nltk) (4.66.1)\n"
          ]
        }
      ]
    },
    {
      "cell_type": "code",
      "source": [
        "import nltk\n",
        "import re\n",
        "import pymorphy2\n",
        "import pandas as pd\n",
        "from nltk.corpus import stopwords\n",
        "from nltk.stem import SnowballStemmer\n",
        "from catboost import CatBoostClassifier\n",
        "\n",
        "\n",
        "model_group_path = '/content/drive/MyDrive/0.766 Группа тем 2023-11-24 23_00_27.014874'\n",
        "model_theme_path = '/content/drive/MyDrive/0.441 Тема 2023-11-24 22_29_01.101913'\n",
        "\n",
        "nltk.download('stopwords')\n",
        "stopwords_ru = stopwords.words(\"russian\")\n",
        "stopwords_ru.extend(['на','то','это','так','по','е','зато','есть','ещё','наш','вся','где','г', 'почему','вы','такие','я','её','сих-пор','ук','это','кто','сейчас','пока','подскажите'])\n",
        "model_gr = CatBoostClassifier()\n",
        "model_gr.load_model(model_group_path)\n",
        "model_tm = CatBoostClassifier()\n",
        "model_tm.load_model(model_theme_path)\n",
        "\n",
        "def predict_group(df):\n",
        "  def remove_html(text):\n",
        "    html=re.compile(r'<.*?>')\n",
        "    return html.sub(r'',text)\n",
        "  def remove_num(text):\n",
        "    remove= re.sub(r'\\d+', '', text)\n",
        "    return remove\n",
        "  def punct_remove(text):\n",
        "      punct = re.sub(r\"[^\\w\\s\\d]\",\"\", text)\n",
        "      return punct\n",
        "  def remove_stopwords(text):\n",
        "      \"\"\"custom function to remove the stopwords\"\"\"\n",
        "      return \" \".join([word for word in str(text).split() if word not in stopwords_ru])\n",
        "  def remove_mention(x):\n",
        "      text=re.sub(r'@\\w+','',x)\n",
        "      return text\n",
        "  def remove_hash(x):\n",
        "      text=re.sub(r'#\\w+','',x)\n",
        "      return text\n",
        "  def remove_space(text):\n",
        "      space_remove = re.sub(r\"\\s+\",\" \",text).strip()\n",
        "      return space_remove\n",
        "  def remove_urls(text):\n",
        "      url_remove = re.compile(r'https?://\\S+|www\\.\\S+')\n",
        "      return url_remove.sub(r'', text)\n",
        "  df['Текст инцидента'] = df['Текст инцидента'].apply(remove_urls)\n",
        "  df['Текст инцидента'] = df['Текст инцидента'].apply(remove_html)\n",
        "  df['Текст инцидента'] = df['Текст инцидента'].apply(punct_remove)\n",
        "  df['Текст инцидента'] = df['Текст инцидента'].apply(remove_stopwords)\n",
        "  df['Текст инцидента'] = df['Текст инцидента'].apply(remove_mention)\n",
        "  df['Текст инцидента'] = df['Текст инцидента'].apply(remove_hash)\n",
        "  df['Текст инцидента'] = df['Текст инцидента'].apply(remove_space)\n",
        "  #df.dropna(axis=0)\n",
        "  df[\"Текст инцидента\"] = df[\"Текст инцидента\"].str.lower()\n",
        "  #df = df.dropna(axis=0)\n",
        "  morph = pymorphy2.MorphAnalyzer()\n",
        "  def lemmatize(doc):\n",
        "      tokens = []\n",
        "      for token in doc.split():\n",
        "          if token and token not in stopwords.words(\"russian\"):\n",
        "              token = token.strip()\n",
        "              parsed_token = morph.parse(token)[0]\n",
        "              normal_form = parsed_token.normal_form\n",
        "              tokens.append(normal_form)\n",
        "      if len(tokens) > 2:\n",
        "          return \" \".join(tokens)\n",
        "      return None\n",
        "  df[\"Текст инцидента\"] = df[\"Текст инцидента\"].apply(lemmatize)\n",
        "  #df = df.dropna(axis=0)\n",
        "\n",
        "\n",
        "  from catboost import CatBoostClassifier, Pool\n",
        "  val_pool = Pool(data=pd.DataFrame(df['Текст инцидента'].astype(str)), text_features=[\"Текст инцидента\"])\n",
        "  res = {'Группа тем': model_gr.predict(val_pool),\n",
        "          'Тема': model_tm.predict(val_pool)}\n",
        "  gr = [j for i in model_gr.predict(val_pool) for j in i]\n",
        "  tm = [j for i in model_tm.predict(val_pool) for j in i]\n",
        "\n",
        "  dict_res = {\n",
        "          'id': df['id'],\n",
        "          'Группа тем': gr,\n",
        "          'Тема': tm,\n",
        "            }\n",
        "  return pd.DataFrame.from_dict(dict_res)\n",
        "\n",
        "\n",
        "df_val = predict_group(pd.read_csv('/content/test.csv', sep =';'))\n",
        "df_val.to_csv('val.csv', sep = ';', index = True, encoding = 'utf-8')\n"
      ],
      "metadata": {
        "id": "VQH6kahSxpe9",
        "colab": {
          "base_uri": "https://localhost:8080/"
        },
        "outputId": "049b1520-d691-4f24-fa32-b2ba70c4108c"
      },
      "execution_count": null,
      "outputs": [
        {
          "output_type": "stream",
          "name": "stderr",
          "text": [
            "[nltk_data] Downloading package stopwords to /root/nltk_data...\n",
            "[nltk_data]   Package stopwords is already up-to-date!\n"
          ]
        }
      ]
    }
  ]
}