{
 "cells": [
  {
   "cell_type": "code",
   "execution_count": 1,
   "metadata": {
    "colab": {
     "base_uri": "https://localhost:8080/"
    },
    "execution": {
     "iopub.execute_input": "2023-11-25T10:44:16.438961Z",
     "iopub.status.busy": "2023-11-25T10:44:16.437955Z",
     "iopub.status.idle": "2023-11-25T10:44:23.630083Z",
     "shell.execute_reply": "2023-11-25T10:44:23.628927Z",
     "shell.execute_reply.started": "2023-11-25T10:44:16.438924Z"
    },
    "id": "NvCupQwVR1M5",
    "outputId": "90c66821-e27d-4151-ee46-83fd7ccee34e",
    "tags": []
   },
   "outputs": [
    {
     "name": "stdout",
     "output_type": "stream",
     "text": [
      "Defaulting to user installation because normal site-packages is not writeable\n",
      "Requirement already satisfied: pymorphy2 in /usr/local/lib/python3.10/dist-packages (0.9.1)\n",
      "Requirement already satisfied: dawg-python>=0.7.1 in /usr/local/lib/python3.10/dist-packages (from pymorphy2) (0.7.2)\n",
      "Requirement already satisfied: pymorphy2-dicts-ru<3.0,>=2.4 in /usr/local/lib/python3.10/dist-packages (from pymorphy2) (2.4.417127.4579844)\n",
      "Requirement already satisfied: docopt>=0.6 in /usr/local/lib/python3.10/dist-packages (from pymorphy2) (0.6.2)\n",
      "\n",
      "\u001b[1m[\u001b[0m\u001b[34;49mnotice\u001b[0m\u001b[1;39;49m]\u001b[0m\u001b[39;49m A new release of pip is available: \u001b[0m\u001b[31;49m23.2.1\u001b[0m\u001b[39;49m -> \u001b[0m\u001b[32;49m23.3.1\u001b[0m\n",
      "\u001b[1m[\u001b[0m\u001b[34;49mnotice\u001b[0m\u001b[1;39;49m]\u001b[0m\u001b[39;49m To update, run: \u001b[0m\u001b[32;49mpython3 -m pip install --upgrade pip\u001b[0m\n"
     ]
    }
   ],
   "source": [
    "%pip install pymorphy2"
   ]
  },
  {
   "cell_type": "code",
   "execution_count": 2,
   "metadata": {
    "colab": {
     "base_uri": "https://localhost:8080/"
    },
    "execution": {
     "iopub.execute_input": "2023-11-25T10:44:23.632866Z",
     "iopub.status.busy": "2023-11-25T10:44:23.631912Z",
     "iopub.status.idle": "2023-11-25T10:44:30.442224Z",
     "shell.execute_reply": "2023-11-25T10:44:30.441015Z",
     "shell.execute_reply.started": "2023-11-25T10:44:23.632811Z"
    },
    "id": "4ziru-DnSrsx",
    "outputId": "8f12bf50-b6d0-40a5-f78a-089b365b5baa",
    "tags": []
   },
   "outputs": [
    {
     "name": "stdout",
     "output_type": "stream",
     "text": [
      "Defaulting to user installation because normal site-packages is not writeable\n",
      "Requirement already satisfied: catboost in /home/jupyter/.local/lib/python3.10/site-packages (1.2.2)\n",
      "Requirement already satisfied: graphviz in /usr/local/lib/python3.10/dist-packages (from catboost) (0.20.1)\n",
      "Requirement already satisfied: matplotlib in /usr/local/lib/python3.10/dist-packages (from catboost) (3.7.1)\n",
      "Requirement already satisfied: numpy>=1.16.0 in /usr/local/lib/python3.10/dist-packages (from catboost) (1.22.4)\n",
      "Requirement already satisfied: pandas>=0.24 in /usr/local/lib/python3.10/dist-packages (from catboost) (1.5.3)\n",
      "Requirement already satisfied: scipy in /usr/local/lib/python3.10/dist-packages (from catboost) (1.10.1)\n",
      "Requirement already satisfied: plotly in /usr/local/lib/python3.10/dist-packages (from catboost) (5.13.1)\n",
      "Requirement already satisfied: six in /kernel/lib/python3.10/site-packages (from catboost) (1.16.0)\n",
      "Requirement already satisfied: python-dateutil>=2.8.1 in /kernel/lib/python3.10/site-packages (from pandas>=0.24->catboost) (2.8.2)\n",
      "Requirement already satisfied: pytz>=2020.1 in /usr/local/lib/python3.10/dist-packages (from pandas>=0.24->catboost) (2022.7.1)\n",
      "Requirement already satisfied: contourpy>=1.0.1 in /kernel/lib/python3.10/site-packages (from matplotlib->catboost) (1.2.0)\n",
      "Requirement already satisfied: cycler>=0.10 in /kernel/lib/python3.10/site-packages (from matplotlib->catboost) (0.12.1)\n",
      "Requirement already satisfied: fonttools>=4.22.0 in /kernel/lib/python3.10/site-packages (from matplotlib->catboost) (4.44.0)\n",
      "Requirement already satisfied: kiwisolver>=1.0.1 in /kernel/lib/python3.10/site-packages (from matplotlib->catboost) (1.4.5)\n",
      "Requirement already satisfied: packaging>=20.0 in /kernel/lib/python3.10/site-packages (from matplotlib->catboost) (23.2)\n",
      "Requirement already satisfied: pillow>=6.2.0 in /kernel/lib/python3.10/site-packages (from matplotlib->catboost) (10.1.0)\n",
      "Requirement already satisfied: pyparsing>=2.3.1 in /kernel/lib/python3.10/site-packages (from matplotlib->catboost) (2.4.7)\n",
      "Requirement already satisfied: tenacity>=6.2.0 in /usr/local/lib/python3.10/dist-packages (from plotly->catboost) (8.2.2)\n",
      "\n",
      "\u001b[1m[\u001b[0m\u001b[34;49mnotice\u001b[0m\u001b[1;39;49m]\u001b[0m\u001b[39;49m A new release of pip is available: \u001b[0m\u001b[31;49m23.2.1\u001b[0m\u001b[39;49m -> \u001b[0m\u001b[32;49m23.3.1\u001b[0m\n",
      "\u001b[1m[\u001b[0m\u001b[34;49mnotice\u001b[0m\u001b[1;39;49m]\u001b[0m\u001b[39;49m To update, run: \u001b[0m\u001b[32;49mpython3 -m pip install --upgrade pip\u001b[0m\n"
     ]
    }
   ],
   "source": [
    "%pip install catboost"
   ]
  },
  {
   "cell_type": "code",
   "execution_count": 3,
   "metadata": {
    "execution": {
     "iopub.execute_input": "2023-11-25T10:44:30.445695Z",
     "iopub.status.busy": "2023-11-25T10:44:30.444660Z",
     "iopub.status.idle": "2023-11-25T10:48:30.844275Z",
     "shell.execute_reply": "2023-11-25T10:48:30.843059Z",
     "shell.execute_reply.started": "2023-11-25T10:44:30.445652Z"
    },
    "id": "PIVg1uNNRUDL",
    "tags": []
   },
   "outputs": [],
   "source": [
    "import re\n",
    "\n",
    "import pandas as pd\n",
    "from nltk.corpus import stopwords\n",
    "from nltk.stem import SnowballStemmer\n",
    "from sklearn.ensemble import RandomForestClassifier\n",
    "from sklearn.feature_extraction.text import TfidfVectorizer\n",
    "from sklearn.metrics import accuracy_score, classification_report\n",
    "from sklearn.model_selection import cross_val_score, train_test_split\n",
    "from sklearn.naive_bayes import MultinomialNB\n",
    "from sklearn.svm import SVC\n",
    "\n",
    "stopwords_ru = stopwords.words(\"russian\")\n",
    "# Загрузка данных\n",
    "dftest = pd.read_csv(\n",
    "    \"https://raw.githubusercontent.com/D4Gj/datasetpromobot/main/train_dataset_train.csv\",\n",
    "    sep=\";\",\n",
    ")\n",
    "dftest[\"Текст инцидента\"] = dftest[\"Текст инцидента\"].str.lower()\n",
    "\n",
    "def remove_urls(text):\n",
    "    url_remove = re.compile(r\"https?://\\S+|www\\.\\S+\")\n",
    "    return url_remove.sub(r\"\", text)\n",
    "\n",
    "\n",
    "def remove_html(text):\n",
    "    html = re.compile(r\"<.*?>\")\n",
    "    return html.sub(r\"\", text)\n",
    "\n",
    "\n",
    "def remove_num(text):\n",
    "    remove = re.sub(r\"\\d+\", \"\", text)\n",
    "    return remove\n",
    "\n",
    "\n",
    "stopwords_ru.extend(\n",
    "    [\n",
    "        \"на\",\n",
    "        \"то\",\n",
    "        \"это\",\n",
    "        \"так\",\n",
    "        \"по\",\n",
    "        \"е\",\n",
    "        \"зато\",\n",
    "        \"есть\",\n",
    "        \"ещё\",\n",
    "        \"наш\",\n",
    "        \"вся\",\n",
    "        \"где\",\n",
    "        \"г\",\n",
    "        \"почему\",\n",
    "        \"вы\",\n",
    "        \"такие\",\n",
    "        \"я\",\n",
    "        \"её\",\n",
    "        \"сих-пор\",\n",
    "        \"ук\",\n",
    "        \"это\",\n",
    "        \"кто\",\n",
    "        \"сейчас\",\n",
    "        \"пока\",\n",
    "        \"подскажите\",\n",
    "    ]\n",
    ")\n",
    "\n",
    "\n",
    "def punct_remove(text):\n",
    "    punct = re.sub(r\"[^\\w\\s\\d]\", \"\", text)\n",
    "    return punct\n",
    "\n",
    "\n",
    "# print(stopwords_ru)\n",
    "def remove_stopwords(text):\n",
    "    \"\"\"custom function to remove the stopwords\"\"\"\n",
    "    return \" \".join([word for word in str(text).split() if word not in stopwords_ru])\n",
    "\n",
    "\n",
    "def remove_mention(x):\n",
    "    text = re.sub(r\"@\\w+\", \"\", x)\n",
    "    return text\n",
    "\n",
    "\n",
    "def remove_hash(x):\n",
    "    text = re.sub(r\"#\\w+\", \"\", x)\n",
    "    return text\n",
    "\n",
    "\n",
    "def remove_space(text):\n",
    "    space_remove = re.sub(r\"\\s+\", \" \", text).strip()\n",
    "    return space_remove\n",
    "\n",
    "\n",
    "dftest[\"Текст инцидента\"] = dftest[\"Текст инцидента\"].apply(lambda x: remove_urls(x))\n",
    "dftest[\"Текст инцидента\"] = dftest[\"Текст инцидента\"].apply(lambda x: remove_html(x))\n",
    "#dftest[\"Текст инцидента\"] = dftest[\"Текст инцидента\"].apply(lambda x: remove_num(x))\n",
    "dftest[\"Текст инцидента\"] = dftest[\"Текст инцидента\"].apply(lambda x: punct_remove(x))\n",
    "dftest[\"Текст инцидента\"] = dftest[\"Текст инцидента\"].apply(lambda x: remove_stopwords(x))\n",
    "dftest[\"Текст инцидента\"] = dftest[\"Текст инцидента\"].apply(lambda x: remove_mention(x))\n",
    "dftest[\"Текст инцидента\"] = dftest[\"Текст инцидента\"].apply(lambda x: remove_hash(x))\n",
    "dftest[\"Текст инцидента\"] = dftest[\"Текст инцидента\"].apply(lambda x: remove_space(x))\n",
    "dftest.dropna(axis=0)\n",
    "\n",
    "# Очистка данных\n",
    "dftest[\"Текст инцидента\"] = dftest[\"Текст инцидента\"].str.lower()\n",
    "dftest = dftest[dftest[\"Текст инцидента\"].str.len() > 2]\n",
    "dftest = dftest.dropna(axis=0)\n",
    "\n",
    "# Стемминг\n",
    "\n",
    "# Лемматизация\n",
    "import pymorphy2\n",
    "\n",
    "morph = pymorphy2.MorphAnalyzer()\n",
    "\n",
    "\n",
    "def lemmatize(doc):\n",
    "    tokens = []\n",
    "    for token in doc.split():\n",
    "        if token and token not in stopwords.words(\"russian\"):\n",
    "            token = token.strip()\n",
    "            parsed_token = morph.parse(token)[0]\n",
    "            normal_form = parsed_token.normal_form\n",
    "            tokens.append(normal_form)\n",
    "    if len(tokens) > 2:\n",
    "        return \" \".join(tokens)\n",
    "    return None\n",
    "\n",
    "\n",
    "dftest[\"Текст инцидента\"] = dftest[\"Текст инцидента\"].apply(lemmatize)\n",
    "dftest = dftest.dropna(axis=0)\n",
    "\n",
    "# Разделение данных на обучающую и тестовую выборки\n"
   ]
  },
  {
   "cell_type": "code",
   "execution_count": 4,
   "metadata": {
    "execution": {
     "iopub.execute_input": "2023-11-25T10:48:30.847681Z",
     "iopub.status.busy": "2023-11-25T10:48:30.846742Z",
     "iopub.status.idle": "2023-11-25T10:48:31.427199Z",
     "shell.execute_reply": "2023-11-25T10:48:31.426021Z",
     "shell.execute_reply.started": "2023-11-25T10:48:30.847635Z"
    },
    "tags": []
   },
   "outputs": [
    {
     "data": {
      "image/png": "[encoded data removed]",
      "text/plain": [
       "<Figure size 720x432 with 1 Axes>"
      ]
     },
     "metadata": {
      "needs_background": "light"
     },
     "output_type": "display_data"
    }
   ],
   "source": [
    "import matplotlib.pyplot as plt\n",
    "\n",
    "# Calculate the percentage of occurrences for each unique value\n",
    "label_counts = dftest['Группа тем'].value_counts(normalize=True)\n",
    "\n",
    "# Plotting\n",
    "plt.figure(figsize=(10, 6))\n",
    "label_counts.plot(kind='bar', color='blue', edgecolor='black')\n",
    "\n",
    "# Add labels and title\n",
    "plt.xlabel('Группа тем')\n",
    "plt.ylabel('Percentage of Occurrences')\n",
    "plt.title('Distribution of Группа тем')\n",
    "\n",
    "# Show the plot\n",
    "plt.show()"
   ]
  },
  {
   "cell_type": "code",
   "execution_count": 14,
   "metadata": {
    "execution": {
     "iopub.execute_input": "2023-11-25T10:51:06.477741Z",
     "iopub.status.busy": "2023-11-25T10:51:06.476862Z",
     "iopub.status.idle": "2023-11-25T10:51:06.502889Z",
     "shell.execute_reply": "2023-11-25T10:51:06.501700Z",
     "shell.execute_reply.started": "2023-11-25T10:51:06.477705Z"
    },
    "tags": []
   },
   "outputs": [],
   "source": [
    "X = dftest[\"Текст инцидента\"]\n",
    "target = \"Группа тем\"\n",
    "y = dftest[target]"
   ]
  },
  {
   "cell_type": "code",
   "execution_count": 15,
   "metadata": {
    "execution": {
     "iopub.execute_input": "2023-11-25T10:51:08.037778Z",
     "iopub.status.busy": "2023-11-25T10:51:08.036813Z",
     "iopub.status.idle": "2023-11-25T10:51:08.057996Z",
     "shell.execute_reply": "2023-11-25T10:51:08.056768Z",
     "shell.execute_reply.started": "2023-11-25T10:51:08.037742Z"
    },
    "id": "0_FFWU2uUvD-",
    "tags": []
   },
   "outputs": [],
   "source": [
    "X_train_pd = pd.DataFrame(X.astype(str))"
   ]
  },
  {
   "cell_type": "code",
   "execution_count": 16,
   "metadata": {
    "execution": {
     "iopub.execute_input": "2023-11-25T10:51:08.283851Z",
     "iopub.status.busy": "2023-11-25T10:51:08.282925Z",
     "iopub.status.idle": "2023-11-25T10:51:08.299404Z",
     "shell.execute_reply": "2023-11-25T10:51:08.298221Z",
     "shell.execute_reply.started": "2023-11-25T10:51:08.283816Z"
    },
    "id": "Hka8yfaVXrvt",
    "tags": []
   },
   "outputs": [],
   "source": [
    "y_train_pd = pd.DataFrame(y.astype(str))"
   ]
  },
  {
   "cell_type": "code",
   "execution_count": 17,
   "metadata": {
    "execution": {
     "iopub.execute_input": "2023-11-25T10:51:08.505007Z",
     "iopub.status.busy": "2023-11-25T10:51:08.504123Z",
     "iopub.status.idle": "2023-11-25T10:51:08.528480Z",
     "shell.execute_reply": "2023-11-25T10:51:08.527322Z",
     "shell.execute_reply.started": "2023-11-25T10:51:08.504966Z"
    },
    "id": "WjJt3x_FYBsr",
    "tags": []
   },
   "outputs": [],
   "source": [
    "X_train, X_test, y_train, y_test = train_test_split(\n",
    "    X_train_pd, y_train_pd, test_size=0.20, random_state=42\n",
    ")"
   ]
  },
  {
   "cell_type": "code",
   "execution_count": 18,
   "metadata": {
    "colab": {
     "base_uri": "https://localhost:8080/"
    },
    "execution": {
     "iopub.execute_input": "2023-11-25T10:51:08.673575Z",
     "iopub.status.busy": "2023-11-25T10:51:08.672672Z",
     "iopub.status.idle": "2023-11-25T10:51:08.699170Z",
     "shell.execute_reply": "2023-11-25T10:51:08.698076Z",
     "shell.execute_reply.started": "2023-11-25T10:51:08.673533Z"
    },
    "id": "eHu6FOmNT3TJ",
    "outputId": "16bffb36-94ba-4c82-b5b2-7d5b3f97d2a3",
    "tags": []
   },
   "outputs": [
    {
     "data": {
      "text/html": [
       "<div>\n",
       "<style scoped>\n",
       "    .dataframe tbody tr th:only-of-type {\n",
       "        vertical-align: middle;\n",
       "    }\n",
       "\n",
       "    .dataframe tbody tr th {\n",
       "        vertical-align: top;\n",
       "    }\n",
       "\n",
       "    .dataframe thead th {\n",
       "        text-align: right;\n",
       "    }\n",
       "</style>\n",
       "<table border=\"1\" class=\"dataframe\">\n",
       "  <thead>\n",
       "    <tr style=\"text-align: right;\">\n",
       "      <th></th>\n",
       "      <th>Текст инцидента</th>\n",
       "    </tr>\n",
       "  </thead>\n",
       "  <tbody>\n",
       "    <tr>\n",
       "      <th>18640</th>\n",
       "      <td>здравствуйте принять пожалуйста жалоба такой в...</td>\n",
       "    </tr>\n",
       "    <tr>\n",
       "      <th>20340</th>\n",
       "      <td>здравствуйте вопрос январь 2021 приходить муж ...</td>\n",
       "    </tr>\n",
       "    <tr>\n",
       "      <th>22676</th>\n",
       "      <td>вокруг монумент трава убрать</td>\n",
       "    </tr>\n",
       "    <tr>\n",
       "      <th>23090</th>\n",
       "      <td>добрый вечертак свет улица ваш обещание конец ...</td>\n",
       "    </tr>\n",
       "    <tr>\n",
       "      <th>14705</th>\n",
       "      <td>добрый вечер узнать переводить социальный конт...</td>\n",
       "    </tr>\n",
       "    <tr>\n",
       "      <th>...</th>\n",
       "      <td>...</td>\n",
       "    </tr>\n",
       "    <tr>\n",
       "      <th>12415</th>\n",
       "      <td>добрый вечер конец месяц остаться несколько ча...</td>\n",
       "    </tr>\n",
       "    <tr>\n",
       "      <th>22344</th>\n",
       "      <td>добрый день звонить 100500 каждый еле дозванив...</td>\n",
       "    </tr>\n",
       "    <tr>\n",
       "      <th>5577</th>\n",
       "      <td>пермь 79922223720 жалоба доводить ваш сведение...</td>\n",
       "    </tr>\n",
       "    <tr>\n",
       "      <th>896</th>\n",
       "      <td>добрый день вопрос подавать заявление выплата ...</td>\n",
       "    </tr>\n",
       "    <tr>\n",
       "      <th>16373</th>\n",
       "      <td>добрый день пожалуйста обратиться путёвка сана...</td>\n",
       "    </tr>\n",
       "  </tbody>\n",
       "</table>\n",
       "<p>17856 rows × 1 columns</p>\n",
       "</div>"
      ],
      "text/plain": [
       "                                         Текст инцидента\n",
       "18640  здравствуйте принять пожалуйста жалоба такой в...\n",
       "20340  здравствуйте вопрос январь 2021 приходить муж ...\n",
       "22676                       вокруг монумент трава убрать\n",
       "23090  добрый вечертак свет улица ваш обещание конец ...\n",
       "14705  добрый вечер узнать переводить социальный конт...\n",
       "...                                                  ...\n",
       "12415  добрый вечер конец месяц остаться несколько ча...\n",
       "22344  добрый день звонить 100500 каждый еле дозванив...\n",
       "5577   пермь 79922223720 жалоба доводить ваш сведение...\n",
       "896    добрый день вопрос подавать заявление выплата ...\n",
       "16373  добрый день пожалуйста обратиться путёвка сана...\n",
       "\n",
       "[17856 rows x 1 columns]"
      ]
     },
     "execution_count": 18,
     "metadata": {},
     "output_type": "execute_result"
    }
   ],
   "source": [
    "X_train.astype(str)"
   ]
  },
  {
   "cell_type": "code",
   "execution_count": 19,
   "metadata": {
    "execution": {
     "iopub.execute_input": "2023-11-25T10:51:08.783602Z",
     "iopub.status.busy": "2023-11-25T10:51:08.782993Z",
     "iopub.status.idle": "2023-11-25T10:51:08.808043Z",
     "shell.execute_reply": "2023-11-25T10:51:08.806897Z",
     "shell.execute_reply.started": "2023-11-25T10:51:08.783569Z"
    },
    "id": "nea-5Nz3SpKi",
    "tags": []
   },
   "outputs": [],
   "source": [
    "from catboost import CatBoostClassifier, Pool\n",
    "\n",
    "\n",
    "def fit_model(train_pool, test_pool, **kwargs):\n",
    "    model = CatBoostClassifier(\n",
    "        task_type=\"GPU\",\n",
    "        iterations=10000,\n",
    "        eval_metric=\"TotalF1\",\n",
    "        od_type=\"Iter\",\n",
    "        od_wait=1000,\n",
    "        **kwargs\n",
    "    )\n",
    "    \n",
    "    return model.fit(\n",
    "        train_pool, eval_set=test_pool, verbose=100, plot=True, use_best_model=True\n",
    "    )"
   ]
  },
  {
   "cell_type": "code",
   "execution_count": 20,
   "metadata": {
    "execution": {
     "iopub.execute_input": "2023-11-25T10:51:08.892756Z",
     "iopub.status.busy": "2023-11-25T10:51:08.891955Z",
     "iopub.status.idle": "2023-11-25T10:51:08.943171Z",
     "shell.execute_reply": "2023-11-25T10:51:08.941780Z",
     "shell.execute_reply.started": "2023-11-25T10:51:08.892721Z"
    },
    "id": "VTQKBGzlWKXu",
    "tags": []
   },
   "outputs": [],
   "source": [
    "train_pool = Pool(data=X_train, label=y_train, text_features=[\"Текст инцидента\"])\n",
    "valid_pool = Pool(data=X_test, label=y_test, text_features=[\"Текст инцидента\"])"
   ]
  },
  {
   "cell_type": "code",
   "execution_count": 21,
   "metadata": {
    "colab": {
     "base_uri": "https://localhost:8080/",
     "height": 34,
     "referenced_widgets": [
      "167c9609705541c0aae7c17b8f31e504"
     ]
    },
    "execution": {
     "iopub.execute_input": "2023-11-25T10:51:09.028271Z",
     "iopub.status.busy": "2023-11-25T10:51:09.027559Z",
     "iopub.status.idle": "2023-11-25T10:52:22.127069Z",
     "shell.execute_reply": "2023-11-25T10:52:22.125961Z",
     "shell.execute_reply.started": "2023-11-25T10:51:09.028235Z"
    },
    "id": "hPI88XjzR0L5",
    "outputId": "a4ee1d48-9203-497f-cc9b-17cbf3320b9d",
    "tags": []
   },
   "outputs": [
    {
     "data": {
      "application/vnd.jupyter.widget-view+json": {
       "model_id": "e224c4e9f47b4fbfb3a46ad74ba8f245",
       "version_major": 2,
       "version_minor": 0
      },
      "text/plain": [
       "MetricVisualizer(layout=Layout(align_self='stretch', height='500px'))"
      ]
     },
     "metadata": {},
     "output_type": "display_data"
    },
    {
     "name": "stdout",
     "output_type": "stream",
     "text": [
      "0:\tlearn: 0.3502376\ttest: 0.3573792\tbest: 0.3573792 (0)\ttotal: 22.6ms\tremaining: 3m 46s\n",
      "100:\tlearn: 0.7132537\ttest: 0.6878698\tbest: 0.6889859 (95)\ttotal: 1.48s\tremaining: 2m 25s\n",
      "200:\tlearn: 0.7358291\ttest: 0.7058309\tbest: 0.7077739 (189)\ttotal: 2.83s\tremaining: 2m 17s\n",
      "300:\tlearn: 0.7526525\ttest: 0.7154872\tbest: 0.7154912 (298)\ttotal: 4.18s\tremaining: 2m 14s\n",
      "400:\tlearn: 0.7599926\ttest: 0.7180586\tbest: 0.7188939 (385)\ttotal: 5.51s\tremaining: 2m 11s\n",
      "500:\tlearn: 0.7681764\ttest: 0.7224837\tbest: 0.7227428 (496)\ttotal: 6.83s\tremaining: 2m 9s\n",
      "600:\tlearn: 0.7753192\ttest: 0.7265144\tbest: 0.7273800 (591)\ttotal: 8.13s\tremaining: 2m 7s\n",
      "700:\tlearn: 0.7822918\ttest: 0.7271760\tbest: 0.7277883 (663)\ttotal: 9.43s\tremaining: 2m 5s\n",
      "800:\tlearn: 0.7889413\ttest: 0.7296986\tbest: 0.7296986 (798)\ttotal: 10.7s\tremaining: 2m 3s\n",
      "900:\tlearn: 0.7940108\ttest: 0.7313064\tbest: 0.7313064 (900)\ttotal: 12s\tremaining: 2m 1s\n",
      "1000:\tlearn: 0.8004727\ttest: 0.7322428\tbest: 0.7322428 (1000)\ttotal: 13.4s\tremaining: 2m\n",
      "1100:\tlearn: 0.8053118\ttest: 0.7327803\tbest: 0.7330923 (1077)\ttotal: 14.7s\tremaining: 1m 58s\n",
      "1200:\tlearn: 0.8095713\ttest: 0.7354360\tbest: 0.7358409 (1167)\ttotal: 16s\tremaining: 1m 57s\n",
      "1300:\tlearn: 0.8172577\ttest: 0.7360787\tbest: 0.7368716 (1294)\ttotal: 17.3s\tremaining: 1m 55s\n",
      "1400:\tlearn: 0.8219273\ttest: 0.7392345\tbest: 0.7396439 (1396)\ttotal: 18.6s\tremaining: 1m 54s\n",
      "1500:\tlearn: 0.8275291\ttest: 0.7401195\tbest: 0.7410161 (1478)\ttotal: 19.9s\tremaining: 1m 52s\n",
      "1600:\tlearn: 0.8327166\ttest: 0.7399668\tbest: 0.7419094 (1536)\ttotal: 21.3s\tremaining: 1m 51s\n",
      "1700:\tlearn: 0.8380410\ttest: 0.7411729\tbest: 0.7422283 (1691)\ttotal: 22.6s\tremaining: 1m 50s\n",
      "1800:\tlearn: 0.8416791\ttest: 0.7415297\tbest: 0.7429620 (1722)\ttotal: 23.9s\tremaining: 1m 48s\n",
      "1900:\tlearn: 0.8456378\ttest: 0.7420768\tbest: 0.7430400 (1879)\ttotal: 25.2s\tremaining: 1m 47s\n",
      "2000:\tlearn: 0.8517648\ttest: 0.7442111\tbest: 0.7442446 (1998)\ttotal: 26.6s\tremaining: 1m 46s\n",
      "2100:\tlearn: 0.8549550\ttest: 0.7441890\tbest: 0.7451224 (2015)\ttotal: 27.9s\tremaining: 1m 44s\n",
      "2200:\tlearn: 0.8590227\ttest: 0.7461170\tbest: 0.7463533 (2198)\ttotal: 29.2s\tremaining: 1m 43s\n",
      "2300:\tlearn: 0.8632373\ttest: 0.7455157\tbest: 0.7466144 (2249)\ttotal: 30.6s\tremaining: 1m 42s\n",
      "2400:\tlearn: 0.8667762\ttest: 0.7471444\tbest: 0.7479583 (2330)\ttotal: 31.9s\tremaining: 1m 40s\n",
      "2500:\tlearn: 0.8712557\ttest: 0.7472765\tbest: 0.7482273 (2425)\ttotal: 33.3s\tremaining: 1m 39s\n",
      "2600:\tlearn: 0.8752061\ttest: 0.7486389\tbest: 0.7487595 (2568)\ttotal: 34.7s\tremaining: 1m 38s\n",
      "2700:\tlearn: 0.8790183\ttest: 0.7493839\tbest: 0.7493839 (2700)\ttotal: 36s\tremaining: 1m 37s\n",
      "2800:\tlearn: 0.8833246\ttest: 0.7491399\tbest: 0.7501840 (2777)\ttotal: 37.3s\tremaining: 1m 35s\n",
      "2900:\tlearn: 0.8871124\ttest: 0.7487149\tbest: 0.7501840 (2777)\ttotal: 38.7s\tremaining: 1m 34s\n",
      "3000:\tlearn: 0.8906295\ttest: 0.7492197\tbest: 0.7501840 (2777)\ttotal: 40s\tremaining: 1m 33s\n",
      "3100:\tlearn: 0.8945273\ttest: 0.7492348\tbest: 0.7502832 (3068)\ttotal: 41.3s\tremaining: 1m 31s\n",
      "3200:\tlearn: 0.8981240\ttest: 0.7501020\tbest: 0.7512476 (3176)\ttotal: 42.7s\tremaining: 1m 30s\n",
      "3300:\tlearn: 0.9026142\ttest: 0.7500434\tbest: 0.7512476 (3176)\ttotal: 44s\tremaining: 1m 29s\n",
      "3400:\tlearn: 0.9055293\ttest: 0.7496425\tbest: 0.7512476 (3176)\ttotal: 45.3s\tremaining: 1m 27s\n",
      "3500:\tlearn: 0.9107763\ttest: 0.7504463\tbest: 0.7512476 (3176)\ttotal: 46.6s\tremaining: 1m 26s\n",
      "3600:\tlearn: 0.9136855\ttest: 0.7517072\tbest: 0.7519155 (3595)\ttotal: 48s\tremaining: 1m 25s\n",
      "3700:\tlearn: 0.9175127\ttest: 0.7510761\tbest: 0.7520013 (3606)\ttotal: 49.3s\tremaining: 1m 23s\n",
      "3800:\tlearn: 0.9218045\ttest: 0.7513611\tbest: 0.7520013 (3606)\ttotal: 50.6s\tremaining: 1m 22s\n",
      "3900:\tlearn: 0.9241387\ttest: 0.7506685\tbest: 0.7520013 (3606)\ttotal: 51.9s\tremaining: 1m 21s\n",
      "4000:\tlearn: 0.9277244\ttest: 0.7540768\tbest: 0.7540768 (3999)\ttotal: 53.3s\tremaining: 1m 19s\n",
      "4100:\tlearn: 0.9301630\ttest: 0.7529710\tbest: 0.7543746 (4014)\ttotal: 54.6s\tremaining: 1m 18s\n",
      "4200:\tlearn: 0.9332762\ttest: 0.7515317\tbest: 0.7543746 (4014)\ttotal: 56s\tremaining: 1m 17s\n",
      "4300:\tlearn: 0.9350126\ttest: 0.7512164\tbest: 0.7543746 (4014)\ttotal: 57.3s\tremaining: 1m 15s\n",
      "4400:\tlearn: 0.9368034\ttest: 0.7513871\tbest: 0.7543746 (4014)\ttotal: 58.6s\tremaining: 1m 14s\n",
      "4500:\tlearn: 0.9394789\ttest: 0.7514237\tbest: 0.7543746 (4014)\ttotal: 60s\tremaining: 1m 13s\n",
      "4600:\tlearn: 0.9418514\ttest: 0.7511223\tbest: 0.7543746 (4014)\ttotal: 1m 1s\tremaining: 1m 11s\n",
      "4700:\tlearn: 0.9443057\ttest: 0.7516616\tbest: 0.7543746 (4014)\ttotal: 1m 2s\tremaining: 1m 10s\n",
      "4800:\tlearn: 0.9467059\ttest: 0.7513977\tbest: 0.7543746 (4014)\ttotal: 1m 3s\tremaining: 1m 9s\n",
      "4900:\tlearn: 0.9489903\ttest: 0.7530196\tbest: 0.7543746 (4014)\ttotal: 1m 5s\tremaining: 1m 7s\n",
      "5000:\tlearn: 0.9509737\ttest: 0.7529082\tbest: 0.7543746 (4014)\ttotal: 1m 6s\tremaining: 1m 6s\n",
      "bestTest = 0.7543745858\n",
      "bestIteration = 4014\n",
      "Shrink model to first 4015 iterations.\n"
     ]
    }
   ],
   "source": [
    "model = fit_model(\n",
    "    train_pool,\n",
    "    valid_pool,\n",
    "    learning_rate=0.35,\n",
    "    dictionaries=[{\n",
    "        \"dictionary_id\": \"Word\",\n",
    "        \"max_dictionary_size\": \"-1\",\n",
    "        'dictionary_type': 'Bpe',\n",
    "    }],\n",
    "    feature_calcers=[\"BoW:top_tokens_count=10000\"],\n",
    ")"
   ]
  },
  {
   "cell_type": "code",
   "execution_count": 22,
   "metadata": {
    "execution": {
     "iopub.execute_input": "2023-11-25T10:52:22.130140Z",
     "iopub.status.busy": "2023-11-25T10:52:22.128997Z",
     "iopub.status.idle": "2023-11-25T10:52:22.150375Z",
     "shell.execute_reply": "2023-11-25T10:52:22.149082Z",
     "shell.execute_reply.started": "2023-11-25T10:52:22.130088Z"
    },
    "tags": []
   },
   "outputs": [
    {
     "name": "stdout",
     "output_type": "stream",
     "text": [
      "2023-11-25 10:52:22.133616\n"
     ]
    }
   ],
   "source": [
    "from datetime import datetime\n",
    "print(datetime.now())"
   ]
  },
  {
   "cell_type": "code",
   "execution_count": 23,
   "metadata": {
    "execution": {
     "iopub.execute_input": "2023-11-25T10:52:22.153475Z",
     "iopub.status.busy": "2023-11-25T10:52:22.152738Z",
     "iopub.status.idle": "2023-11-25T10:52:22.173767Z",
     "shell.execute_reply": "2023-11-25T10:52:22.172775Z",
     "shell.execute_reply.started": "2023-11-25T10:52:22.153420Z"
    },
    "tags": []
   },
   "outputs": [
    {
     "data": {
      "text/plain": [
       "{'learn': {'TotalF1': 0.9513134166106536, 'MultiClass': 0.2929555147779458},\n",
       " 'validation': {'TotalF1': 0.7543745857621305,\n",
       "  'MultiClass': 0.8370902222117216}}"
      ]
     },
     "execution_count": 23,
     "metadata": {},
     "output_type": "execute_result"
    }
   ],
   "source": [
    "model.get_best_score()"
   ]
  },
  {
   "cell_type": "code",
   "execution_count": 24,
   "metadata": {
    "execution": {
     "iopub.execute_input": "2023-11-25T10:52:22.176142Z",
     "iopub.status.busy": "2023-11-25T10:52:22.175228Z",
     "iopub.status.idle": "2023-11-25T10:52:22.187756Z",
     "shell.execute_reply": "2023-11-25T10:52:22.186658Z",
     "shell.execute_reply.started": "2023-11-25T10:52:22.176097Z"
    },
    "tags": []
   },
   "outputs": [],
   "source": [
    "f1 = model.get_best_score()['validation']['TotalF1']"
   ]
  },
  {
   "cell_type": "code",
   "execution_count": 25,
   "metadata": {
    "execution": {
     "iopub.execute_input": "2023-11-25T10:52:22.189940Z",
     "iopub.status.busy": "2023-11-25T10:52:22.189207Z",
     "iopub.status.idle": "2023-11-25T10:52:22.958347Z",
     "shell.execute_reply": "2023-11-25T10:52:22.957282Z",
     "shell.execute_reply.started": "2023-11-25T10:52:22.189898Z"
    },
    "tags": []
   },
   "outputs": [],
   "source": [
    "model.save_model(f'{f1:.3f} {target} {datetime.now()}')"
   ]
  },
  {
   "cell_type": "code",
   "execution_count": null,
   "metadata": {},
   "outputs": [],
   "source": []
  },
  {
   "cell_type": "code",
   "execution_count": 26,
   "metadata": {
    "execution": {
     "iopub.execute_input": "2023-11-25T10:52:22.960482Z",
     "iopub.status.busy": "2023-11-25T10:52:22.959767Z",
     "iopub.status.idle": "2023-11-25T10:52:23.021128Z",
     "shell.execute_reply": "2023-11-25T10:52:23.019296Z",
     "shell.execute_reply.started": "2023-11-25T10:52:22.960432Z"
    },
    "tags": []
   },
   "outputs": [
    {
     "ename": "CatBoostError",
     "evalue": "/src/catboost/catboost/private/libs/target/data_providers.cpp:414: Metric Logloss is incompatible with multi-dimensional predictions (should be RMSEWithUncertainty, MultiQuantile, or a multi-classification metric,  or a multi-target metric)",
     "output_type": "error",
     "traceback": [
      "\u001b[0;31m---------------------------------------------------------------------------\u001b[0m",
      "\u001b[0;31mCatBoostError\u001b[0m                             Traceback (most recent call last)",
      "\u001b[0;32m<ipython-input-26-05579b67f531>\u001b[0m in \u001b[0;36m<module>\u001b[0;34m\u001b[0m\n\u001b[1;32m      1\u001b[0m \u001b[0;32mfrom\u001b[0m \u001b[0mcatboost\u001b[0m\u001b[0;34m.\u001b[0m\u001b[0mutils\u001b[0m \u001b[0;32mimport\u001b[0m \u001b[0mget_roc_curve\u001b[0m\u001b[0;34m\u001b[0m\u001b[0;34m\u001b[0m\u001b[0m\n\u001b[0;32m----> 2\u001b[0;31m \u001b[0;34m(\u001b[0m\u001b[0mfpr\u001b[0m\u001b[0;34m,\u001b[0m \u001b[0mtpr\u001b[0m\u001b[0;34m,\u001b[0m \u001b[0mthresholds\u001b[0m\u001b[0;34m)\u001b[0m \u001b[0;34m=\u001b[0m \u001b[0mget_roc_curve\u001b[0m\u001b[0;34m(\u001b[0m\u001b[0mmodel\u001b[0m\u001b[0;34m,\u001b[0m \u001b[0mtrain_pool\u001b[0m\u001b[0;34m,\u001b[0m \u001b[0mplot\u001b[0m\u001b[0;34m=\u001b[0m\u001b[0;32mTrue\u001b[0m\u001b[0;34m)\u001b[0m\u001b[0;34m\u001b[0m\u001b[0;34m\u001b[0m\u001b[0m\n\u001b[0m\u001b[1;32m      3\u001b[0m \u001b[0mprint\u001b[0m\u001b[0;34m(\u001b[0m\u001b[0mfpr\u001b[0m\u001b[0;34m)\u001b[0m\u001b[0;34m\u001b[0m\u001b[0;34m\u001b[0m\u001b[0m\n\u001b[1;32m      4\u001b[0m \u001b[0mprint\u001b[0m\u001b[0;34m(\u001b[0m\u001b[0mtpr\u001b[0m\u001b[0;34m)\u001b[0m\u001b[0;34m\u001b[0m\u001b[0;34m\u001b[0m\u001b[0m\n\u001b[1;32m      5\u001b[0m \u001b[0mprint\u001b[0m\u001b[0;34m(\u001b[0m\u001b[0mthresholds\u001b[0m\u001b[0;34m)\u001b[0m\u001b[0;34m\u001b[0m\u001b[0;34m\u001b[0m\u001b[0m\n",
      "\u001b[0;32m~/.local/lib/python3.10/site-packages/catboost/utils.py\u001b[0m in \u001b[0;36mget_roc_curve\u001b[0;34m(model, data, thread_count, plot)\u001b[0m\n\u001b[1;32m    363\u001b[0m             \u001b[0;32mraise\u001b[0m \u001b[0mCatBoostError\u001b[0m\u001b[0;34m(\u001b[0m\u001b[0;34m'one of data pools is not catboost.Pool'\u001b[0m\u001b[0;34m)\u001b[0m\u001b[0;34m\u001b[0m\u001b[0;34m\u001b[0m\u001b[0m\n\u001b[1;32m    364\u001b[0m \u001b[0;34m\u001b[0m\u001b[0m\n\u001b[0;32m--> 365\u001b[0;31m     \u001b[0mroc_curve\u001b[0m \u001b[0;34m=\u001b[0m \u001b[0m_get_roc_curve\u001b[0m\u001b[0;34m(\u001b[0m\u001b[0mmodel\u001b[0m\u001b[0;34m.\u001b[0m\u001b[0m_object\u001b[0m\u001b[0;34m,\u001b[0m \u001b[0mdata\u001b[0m\u001b[0;34m,\u001b[0m \u001b[0mthread_count\u001b[0m\u001b[0;34m)\u001b[0m\u001b[0;34m\u001b[0m\u001b[0;34m\u001b[0m\u001b[0m\n\u001b[0m\u001b[1;32m    366\u001b[0m \u001b[0;34m\u001b[0m\u001b[0m\n\u001b[1;32m    367\u001b[0m     \u001b[0;32mif\u001b[0m \u001b[0mplot\u001b[0m\u001b[0;34m:\u001b[0m\u001b[0;34m\u001b[0m\u001b[0;34m\u001b[0m\u001b[0m\n",
      "\u001b[0;32m_catboost.pyx\u001b[0m in \u001b[0;36m_catboost._get_roc_curve\u001b[0;34m()\u001b[0m\n",
      "\u001b[0;32m_catboost.pyx\u001b[0m in \u001b[0;36m_catboost._get_roc_curve\u001b[0;34m()\u001b[0m\n",
      "\u001b[0;31mCatBoostError\u001b[0m: /src/catboost/catboost/private/libs/target/data_providers.cpp:414: Metric Logloss is incompatible with multi-dimensional predictions (should be RMSEWithUncertainty, MultiQuantile, or a multi-classification metric,  or a multi-target metric)"
     ]
    }
   ],
   "source": [
    "from catboost.utils import get_roc_curve\n",
    "(fpr, tpr, thresholds) = get_roc_curve(model, train_pool, plot=True)\n",
    "print(fpr)\n",
    "print(tpr)\n",
    "print(thresholds)"
   ]
  },
  {
   "cell_type": "code",
   "execution_count": null,
   "metadata": {},
   "outputs": [],
   "source": []
  },
  {
   "cell_type": "code",
   "execution_count": null,
   "metadata": {},
   "outputs": [],
   "source": []
  },
  {
   "cell_type": "code",
   "execution_count": null,
   "metadata": {},
   "outputs": [],
   "source": []
  },
  {
   "cell_type": "code",
   "execution_count": null,
   "metadata": {},
   "outputs": [],
   "source": []
  },
  {
   "cell_type": "code",
   "execution_count": null,
   "metadata": {},
   "outputs": [],
   "source": []
  },
  {
   "cell_type": "code",
   "execution_count": null,
   "metadata": {},
   "outputs": [],
   "source": []
  }
 ],
 "metadata": {
  "colab": {
   "provenance": []
  },
  "kernelspec": {
   "display_name": "DataSphere Kernel",
   "language": "python",
   "name": "python3"
  },
  "language_info": {
   "codemirror_mode": {
    "name": "ipython",
    "version": 3
   },
   "file_extension": ".py",
   "mimetype": "text/x-python",
   "name": "python",
   "nbconvert_exporter": "python",
   "pygments_lexer": "ipython3",
   "version": "3.7.7"
  },
  "widgets": {
   "application/vnd.jupyter.widget-state+json": {
    "167c9609705541c0aae7c17b8f31e504": {
     "model_module": "catboost-widget",
     "model_module_version": "^1.0.0",
     "model_name": "CatboostWidgetModel",
     "state": {
      "_dom_classes": [],
      "_model_module": "catboost-widget",
      "_model_module_version": "^1.0.0",
      "_model_name": "CatboostWidgetModel",
      "_view_count": null,
      "_view_module": "catboost-widget",
      "_view_module_version": "^1.0.0",
      "_view_name": "CatboostWidgetView",
      "data": {
       "catboost_info": {
        "content": {
         "data": {
          "iterations": [
           {
            "iteration": 0,
            "learn": [
             0.3100191948,
             2.214026722
            ],
            "passed_time": 16.07773788,
            "remaining_time": 80372.61169,
            "test": [
             0.3045535527,
             2.212112505
            ]
           },
           {
            "iteration": 1,
            "learn": [
             0.4053175831,
             1.948451599
            ],
            "passed_time": 31.23487569,
            "remaining_time": 78055.95435,
            "test": [
             0.3970607174,
             1.953970848
            ]
           },
           {
            "iteration": 2,
            "learn": [
             0.4181888047,
             1.789279876
            ],
            "passed_time": 45.8858814,
            "remaining_time": 76430.58312,
            "test": [
             0.4100005869,
             1.795959371
            ]
           },
           {
            "iteration": 3,
            "learn": [
             0.4407392973,
             1.704121705
            ],
            "passed_time": 60.98598911,
            "remaining_time": 76171.50039,
            "test": [
             0.4324327264,
             1.714142753
            ]
           },
           {
            "iteration": 4,
            "learn": [
             0.4742099038,
             1.632755048
            ],
            "passed_time": 76.30556912,
            "remaining_time": 76229.26355,
            "test": [
             0.4726949208,
             1.638384648
            ]
           },
           {
            "iteration": 5,
            "learn": [
             0.5191077893,
             1.559703032
            ],
            "passed_time": 91.39967962,
            "remaining_time": 76075,
            "test": [
             0.50996403,
             1.571553875
            ]
           }
          ],
          "meta": {
           "iteration_count": 5000,
           "launch_mode": "Train",
           "learn_metrics": [
            {
             "best_value": "Max",
             "name": "TotalF1"
            },
            {
             "best_value": "Min",
             "name": "MultiClass"
            }
           ],
           "learn_sets": [
            "learn"
           ],
           "name": "experiment",
           "parameters": "",
           "test_metrics": [
            {
             "best_value": "Max",
             "name": "TotalF1"
            },
            {
             "best_value": "Min",
             "name": "MultiClass"
            }
           ],
           "test_sets": [
            "test"
           ]
          }
         },
         "passed_iterations": 5,
         "total_iterations": 5000
        },
        "name": "catboost_info",
        "path": "catboost_info"
       }
      },
      "layout": "IPY_MODEL_ebb01c4aab694972b837d624f79ecbf8"
     }
    }
   }
  }
 },
 "nbformat": 4,
 "nbformat_minor": 4
}
